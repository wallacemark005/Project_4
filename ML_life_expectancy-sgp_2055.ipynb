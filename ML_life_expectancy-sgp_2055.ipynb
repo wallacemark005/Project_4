{
 "cells": [
  {
   "cell_type": "code",
   "execution_count": 2,
   "id": "a22e0712",
   "metadata": {},
   "outputs": [],
   "source": [
    "# Libraries\n",
    "import sys\n",
    "import scipy\n",
    "import numpy as np\n",
    "import matplotlib\n",
    "import pandas as pd\n",
    "import sklearn\n",
    "import os\n",
    "\n",
    "from sklearn.linear_model import LinearRegression"
   ]
  },
  {
   "cell_type": "code",
   "execution_count": 4,
   "id": "8b25fab0",
   "metadata": {},
   "outputs": [
    {
     "name": "stderr",
     "output_type": "stream",
     "text": [
      "C:\\Users\\walla\\anaconda3\\lib\\site-packages\\pandas\\core\\frame.py:4308: SettingWithCopyWarning: \n",
      "A value is trying to be set on a copy of a slice from a DataFrame\n",
      "\n",
      "See the caveats in the documentation: https://pandas.pydata.org/pandas-docs/stable/user_guide/indexing.html#returning-a-view-versus-a-copy\n",
      "  return super().drop(\n"
     ]
    },
    {
     "data": {
      "text/plain": [
       "array([[95.52629632]])"
      ]
     },
     "execution_count": 4,
     "metadata": {},
     "output_type": "execute_result"
    }
   ],
   "source": [
    "df = pd.read_csv(os.path.join(\"Resources\", \"life_expectancy.csv\"))\n",
    "\n",
    "sgp=df.loc[df['Country Name']=='Singapore']\n",
    "sgp.drop(['Country Name','Country Code','Indicator Name','Indicator Code'],axis=1,inplace=True)\n",
    "sgp = sgp.T\n",
    "sgp.head()\n",
    "\n",
    "sgp.dropna(inplace=True)\n",
    "sgp=sgp.reset_index().rename(columns={206:'population','index':'year'})\n",
    "sgp.head()\n",
    "\n",
    "x = sgp.iloc[:, 0].values.reshape(-1, 1)\n",
    "y = sgp.iloc[:, 1].values.reshape(-1, 1)\n",
    "model = LinearRegression().fit(x, y)\n",
    "y_pred = model.predict([[2055]])\n",
    "y_pred"
   ]
  },
  {
   "cell_type": "code",
   "execution_count": null,
   "id": "1407d242",
   "metadata": {},
   "outputs": [],
   "source": []
  }
 ],
 "metadata": {
  "kernelspec": {
   "display_name": "Python 3",
   "language": "python",
   "name": "python3"
  },
  "language_info": {
   "codemirror_mode": {
    "name": "ipython",
    "version": 3
   },
   "file_extension": ".py",
   "mimetype": "text/x-python",
   "name": "python",
   "nbconvert_exporter": "python",
   "pygments_lexer": "ipython3",
   "version": "3.8.8"
  }
 },
 "nbformat": 4,
 "nbformat_minor": 5
}
